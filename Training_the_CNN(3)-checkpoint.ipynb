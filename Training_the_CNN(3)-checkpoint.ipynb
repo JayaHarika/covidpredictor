{
 "cells": [
  {
   "cell_type": "code",
   "execution_count": 12,
   "metadata": {
    "colab": {},
    "colab_type": "code",
    "id": "qLgXb1phenfr"
   },
   "outputs": [],
   "source": [
    "import numpy as np\n",
    "\n",
    "data=np.load('data.npy')\n",
    "target=np.load('target.npy')"
   ]
  },
  {
   "cell_type": "code",
   "execution_count": 35,
   "metadata": {},
   "outputs": [],
   "source": [
    "from tensorflow.keras.utils import normalize"
   ]
  },
  {
   "cell_type": "code",
   "execution_count": 45,
   "metadata": {
    "colab": {
     "base_uri": "https://localhost:8080/",
     "height": 717
    },
    "colab_type": "code",
    "id": "ertMpl3renfx",
    "outputId": "b9281743-2e68-4cb3-d16f-2b46fcc2bbbf"
   },
   "outputs": [
    {
     "name": "stdout",
     "output_type": "stream",
     "text": [
      "Model: \"sequential\"\n",
      "_________________________________________________________________\n",
      "Layer (type)                 Output Shape              Param #   \n",
      "=================================================================\n",
      "model (Functional)           (None, 100, 100, 384)     11008     \n",
      "_________________________________________________________________\n",
      "conv2d_9 (Conv2D)            (None, 98, 98, 64)        221248    \n",
      "_________________________________________________________________\n",
      "activation (Activation)      (None, 98, 98, 64)        0         \n",
      "_________________________________________________________________\n",
      "max_pooling2d (MaxPooling2D) (None, 49, 49, 64)        0         \n",
      "_________________________________________________________________\n",
      "conv2d_10 (Conv2D)           (None, 47, 47, 32)        18464     \n",
      "_________________________________________________________________\n",
      "activation_1 (Activation)    (None, 47, 47, 32)        0         \n",
      "_________________________________________________________________\n",
      "max_pooling2d_1 (MaxPooling2 (None, 23, 23, 32)        0         \n",
      "_________________________________________________________________\n",
      "flatten (Flatten)            (None, 16928)             0         \n",
      "_________________________________________________________________\n",
      "dropout (Dropout)            (None, 16928)             0         \n",
      "_________________________________________________________________\n",
      "dense (Dense)                (None, 128)               2166912   \n",
      "_________________________________________________________________\n",
      "dropout_1 (Dropout)          (None, 128)               0         \n",
      "_________________________________________________________________\n",
      "dense_1 (Dense)              (None, 64)                8256      \n",
      "_________________________________________________________________\n",
      "dropout_2 (Dropout)          (None, 64)                0         \n",
      "_________________________________________________________________\n",
      "dense_2 (Dense)              (None, 2)                 130       \n",
      "=================================================================\n",
      "Total params: 2,426,018\n",
      "Trainable params: 2,426,018\n",
      "Non-trainable params: 0\n",
      "_________________________________________________________________\n"
     ]
    }
   ],
   "source": [
    "from tensorflow.keras.models import Sequential,Model\n",
    "from tensorflow.keras.layers import Dense, Dropout, Flatten\n",
    "from tensorflow.keras.layers import Conv2D,Activation,MaxPooling2D\n",
    "from tensorflow.keras.utils import normalize\n",
    "from tensorflow.keras.layers import Concatenate\n",
    "from tensorflow.keras import Input\n",
    "from tensorflow.keras.callbacks import ModelCheckpoint\n",
    "\n",
    "input_shape=data.shape[1:] #50,50,1\n",
    "inp=Input(shape=input_shape)\n",
    "convs=[]\n",
    "\n",
    "parrallel_kernels=[3,5,7]\n",
    "\n",
    "for k in range(len(parrallel_kernels)):\n",
    "\n",
    "    conv = Conv2D(128, parrallel_kernels[k],padding='same',activation='relu',input_shape=input_shape,strides=1)(inp)\n",
    "    convs.append(conv)\n",
    "\n",
    "out = Concatenate()(convs)\n",
    "conv_model = Model(inp, out)\n",
    "\n",
    "model = Sequential()\n",
    "model.add(conv_model)\n",
    "\n",
    "model.add(Conv2D(64,(3,3)))\n",
    "model.add(Activation('relu'))\n",
    "model.add(MaxPooling2D(pool_size=(2,2)))\n",
    "\n",
    "model.add(Conv2D(32,(3,3)))\n",
    "model.add(Activation('relu'))\n",
    "model.add(MaxPooling2D(pool_size=(2,2)))\n",
    "\n",
    "model.add(Flatten())\n",
    "model.add(Dropout(0.5))\n",
    "model.add(Dense(128,activation='relu'))\n",
    "model.add(Dropout(0.5))\n",
    "model.add(Dense(64,activation='relu'))\n",
    "model.add(Dropout(0.5))\n",
    "model.add(Dense(2,input_dim=128,activation='softmax'))\n",
    "model.compile(loss='categorical_crossentropy',optimizer='adam',metrics=['accuracy'])\n",
    "\n",
    "model.summary()"
   ]
  },
  {
   "cell_type": "code",
   "execution_count": 48,
   "metadata": {
    "colab": {},
    "colab_type": "code",
    "id": "WQkqpg28engN"
   },
   "outputs": [],
   "source": [
    "from sklearn.model_selection import train_test_split\n",
    "\n",
    "train_data,test_data,train_target,test_target=train_test_split(data,target,test_size=0.1)"
   ]
  },
  {
   "cell_type": "code",
   "execution_count": 49,
   "metadata": {
    "colab": {
     "base_uri": "https://localhost:8080/",
     "height": 714
    },
    "colab_type": "code",
    "id": "wo2sqr4CengR",
    "outputId": "3de2ac82-256a-432b-ff0c-fcddd94493da"
   },
   "outputs": [
    {
     "name": "stdout",
     "output_type": "stream",
     "text": [
      "Epoch 1/20\n",
      "18/18 [==============================] - 94s 5s/step - loss: 0.6027 - accuracy: 0.7296 - val_loss: 0.4008 - val_accuracy: 0.8548\n",
      "INFO:tensorflow:Assets written to: model-001.model\\assets\n",
      "Epoch 2/20\n",
      "18/18 [==============================] - 91s 5s/step - loss: 0.5132 - accuracy: 0.7731 - val_loss: 0.3852 - val_accuracy: 0.8548\n",
      "INFO:tensorflow:Assets written to: model-002.model\\assets\n",
      "Epoch 3/20\n",
      "18/18 [==============================] - 88s 5s/step - loss: 0.5251 - accuracy: 0.7731 - val_loss: 0.3305 - val_accuracy: 0.8710\n",
      "INFO:tensorflow:Assets written to: model-003.model\\assets\n",
      "Epoch 4/20\n",
      "18/18 [==============================] - 94s 5s/step - loss: 0.4647 - accuracy: 0.8221 - val_loss: 0.2979 - val_accuracy: 0.9194\n",
      "INFO:tensorflow:Assets written to: model-004.model\\assets\n",
      "Epoch 5/20\n",
      "18/18 [==============================] - 92s 5s/step - loss: 0.4620 - accuracy: 0.8367 - val_loss: 0.3182 - val_accuracy: 0.9032\n",
      "Epoch 6/20\n",
      "18/18 [==============================] - 93s 5s/step - loss: 0.3842 - accuracy: 0.8639 - val_loss: 0.2308 - val_accuracy: 0.9032\n",
      "INFO:tensorflow:Assets written to: model-006.model\\assets\n",
      "Epoch 7/20\n",
      "18/18 [==============================] - 89s 5s/step - loss: 0.4204 - accuracy: 0.8439 - val_loss: 0.2789 - val_accuracy: 0.9194\n",
      "Epoch 8/20\n",
      "18/18 [==============================] - 91s 5s/step - loss: 0.3758 - accuracy: 0.8675 - val_loss: 0.2317 - val_accuracy: 0.9355\n",
      "Epoch 9/20\n",
      "18/18 [==============================] - 88s 5s/step - loss: 0.3575 - accuracy: 0.8820 - val_loss: 0.2126 - val_accuracy: 0.9355\n",
      "INFO:tensorflow:Assets written to: model-009.model\\assets\n",
      "Epoch 10/20\n",
      "18/18 [==============================] - 88s 5s/step - loss: 0.3640 - accuracy: 0.8711 - val_loss: 0.2327 - val_accuracy: 0.9355\n",
      "Epoch 11/20\n",
      "18/18 [==============================] - 89s 5s/step - loss: 0.3471 - accuracy: 0.8911 - val_loss: 0.2032 - val_accuracy: 0.9194\n",
      "INFO:tensorflow:Assets written to: model-011.model\\assets\n",
      "Epoch 12/20\n",
      "18/18 [==============================] - 94s 5s/step - loss: 0.3670 - accuracy: 0.8603 - val_loss: 0.2328 - val_accuracy: 0.9194\n",
      "Epoch 13/20\n",
      "18/18 [==============================] - 92s 5s/step - loss: 0.3648 - accuracy: 0.8838 - val_loss: 0.2503 - val_accuracy: 0.9355\n",
      "Epoch 14/20\n",
      "18/18 [==============================] - 94s 5s/step - loss: 0.3512 - accuracy: 0.8693 - val_loss: 0.1778 - val_accuracy: 0.9355\n",
      "INFO:tensorflow:Assets written to: model-014.model\\assets\n",
      "Epoch 15/20\n",
      "18/18 [==============================] - 91s 5s/step - loss: 0.3627 - accuracy: 0.8875 - val_loss: 0.2084 - val_accuracy: 0.9355\n",
      "Epoch 16/20\n",
      "18/18 [==============================] - 107s 6s/step - loss: 0.3193 - accuracy: 0.8929 - val_loss: 0.1876 - val_accuracy: 0.9355\n",
      "Epoch 17/20\n",
      "18/18 [==============================] - 95s 5s/step - loss: 0.3023 - accuracy: 0.8966 - val_loss: 0.2363 - val_accuracy: 0.9355\n",
      "Epoch 18/20\n",
      "18/18 [==============================] - 95s 5s/step - loss: 0.2669 - accuracy: 0.9056 - val_loss: 0.2153 - val_accuracy: 0.9355\n",
      "Epoch 19/20\n",
      "18/18 [==============================] - 106s 6s/step - loss: 0.2770 - accuracy: 0.9020 - val_loss: 0.2258 - val_accuracy: 0.9355\n",
      "Epoch 20/20\n",
      "18/18 [==============================] - 96s 5s/step - loss: 0.2794 - accuracy: 0.9056 - val_loss: 0.1721 - val_accuracy: 0.9355\n",
      "INFO:tensorflow:Assets written to: model-020.model\\assets\n"
     ]
    }
   ],
   "source": [
    "checkpoint = ModelCheckpoint('model-{epoch:03d}.model',monitor='val_loss',verbose=0,save_best_only=True,mode='auto')\n",
    "history=model.fit(train_data,train_target,epochs=20,callbacks=[checkpoint],validation_split=0.1)"
   ]
  },
  {
   "cell_type": "code",
   "execution_count": 52,
   "metadata": {
    "colab": {
     "base_uri": "https://localhost:8080/",
     "height": 279
    },
    "colab_type": "code",
    "id": "F0lkS8paengW",
    "outputId": "9374bed5-8262-4516-ecfd-06a611acb924"
   },
   "outputs": [
    {
     "name": "stderr",
     "output_type": "stream",
     "text": [
      "Matplotlib is building the font cache; this may take a moment.\n"
     ]
    },
    {
     "data": {
      "image/png": "[encoded data removed]",
      "text/plain": [
       "<Figure size 432x288 with 1 Axes>"
      ]
     },
     "metadata": {
      "needs_background": "light"
     },
     "output_type": "display_data"
    }
   ],
   "source": [
    "from matplotlib import pyplot as plt\n",
    "\n",
    "plt.plot(history.history['loss'],'r',label='training loss')\n",
    "plt.plot(history.history['val_loss'],label='validation loss')\n",
    "plt.xlabel('# epochs')\n",
    "plt.ylabel('loss')\n",
    "plt.legend()\n",
    "plt.show()"
   ]
  },
  {
   "cell_type": "code",
   "execution_count": 53,
   "metadata": {
    "colab": {
     "base_uri": "https://localhost:8080/",
     "height": 279
    },
    "colab_type": "code",
    "id": "gU5uAPX4pBgq",
    "outputId": "b7e4e36b-e260-4635-e640-41578bc752dc"
   },
   "outputs": [
    {
     "data": {
      "image/png": "[encoded data removed]",
      "text/plain": [
       "<Figure size 432x288 with 1 Axes>"
      ]
     },
     "metadata": {
      "needs_background": "light"
     },
     "output_type": "display_data"
    }
   ],
   "source": [
    "plt.plot(history.history['accuracy'],'r',label='training accuracy')\n",
    "plt.plot(history.history['val_accuracy'],label='validation accuracy')\n",
    "plt.xlabel('# epochs')\n",
    "plt.ylabel('loss')\n",
    "plt.legend()\n",
    "plt.show()"
   ]
  },
  {
   "cell_type": "code",
   "execution_count": 54,
   "metadata": {
    "colab": {
     "base_uri": "https://localhost:8080/",
     "height": 51
    },
    "colab_type": "code",
    "id": "66XB-M0NpEIR",
    "outputId": "4facb8ee-41cd-46b2-c237-27b548c85e2a"
   },
   "outputs": [
    {
     "name": "stdout",
     "output_type": "stream",
     "text": [
      "3/3 [==============================] - 2s 628ms/step - loss: 0.4035 - accuracy: 0.8841\n",
      "[0.4034903645515442, 0.8840579986572266]\n"
     ]
    }
   ],
   "source": [
    "print(model.evaluate(test_data,test_target))"
   ]
  }
 ],
 "metadata": {
  "accelerator": "GPU",
  "colab": {
   "name": "3.0 Training the CNN.ipynb",
   "provenance": []
  },
  "kernelspec": {
   "display_name": "Python 3",
   "language": "python",
   "name": "python3"
  },
  "language_info": {
   "codemirror_mode": {
    "name": "ipython",
    "version": 3
   },
   "file_extension": ".py",
   "mimetype": "text/x-python",
   "name": "python",
   "nbconvert_exporter": "python",
   "pygments_lexer": "ipython3",
   "version": "3.9.5"
  }
 },
 "nbformat": 4,
 "nbformat_minor": 1
}
